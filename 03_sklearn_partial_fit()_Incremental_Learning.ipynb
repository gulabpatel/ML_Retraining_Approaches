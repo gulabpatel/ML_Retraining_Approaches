{
  "nbformat": 4,
  "nbformat_minor": 0,
  "metadata": {
    "colab": {
      "name": "03_sklearn_partial_fit()_Incremental_Learning.ipynb",
      "provenance": [],
      "authorship_tag": "ABX9TyNFixZooZ8XfKGVB17KqrbM",
      "include_colab_link": true
    },
    "kernelspec": {
      "name": "python3",
      "display_name": "Python 3"
    },
    "language_info": {
      "name": "python"
    }
  },
  "cells": [
    {
      "cell_type": "markdown",
      "metadata": {
        "id": "view-in-github",
        "colab_type": "text"
      },
      "source": [
        "<a href=\"https://colab.research.google.com/github/gulabpatel/ML_Retraining_Approaches/blob/main/03_sklearn_partial_fit()_Incremental_Learning.ipynb\" target=\"_parent\"><img src=\"https://colab.research.google.com/assets/colab-badge.svg\" alt=\"Open In Colab\"/></a>"
      ]
    },
    {
      "cell_type": "markdown",
      "source": [
        "sklean partial_fit() documentation : https://coderzcolumn.com/tutorials/machine-learning/scikit-learn-incremental-learning-for-large-datasets"
      ],
      "metadata": {
        "id": "nVNWzecsBaSj"
      }
    },
    {
      "cell_type": "markdown",
      "source": [
        "#Load Dataset"
      ],
      "metadata": {
        "id": "OsIMadj9B4_d"
      }
    },
    {
      "cell_type": "code",
      "execution_count": 3,
      "metadata": {
        "colab": {
          "base_uri": "https://localhost:8080/"
        },
        "id": "cc99gXwR8tW6",
        "outputId": "d51cd2e9-9566-4b3c-cade-b4cc01744a85"
      },
      "outputs": [
        {
          "output_type": "execute_result",
          "data": {
            "text/plain": [
              "((216000, 100), (24000, 100), (216000,), (24000,))"
            ]
          },
          "metadata": {},
          "execution_count": 3
        }
      ],
      "source": [
        "from sklearn import datasets\n",
        "from sklearn.model_selection import train_test_split\n",
        "\n",
        "X, Y = datasets.make_regression(n_samples=240000, random_state=123)\n",
        "X_train, X_test, Y_train, Y_test = train_test_split(X, Y, train_size=0.9, random_state=123)\n",
        "X_train.shape, X_test.shape, Y_train.shape, Y_test.shape"
      ]
    },
    {
      "cell_type": "code",
      "source": [
        "X_train, X_test = X_train.reshape(-1,24,100), X_test.reshape(-1,24,100)\n",
        "Y_train, Y_test = Y_train.reshape(-1,24), Y_test.reshape(-1,24)\n",
        "\n",
        "X_train.shape, X_test.shape, Y_train.shape, Y_test.shape"
      ],
      "metadata": {
        "colab": {
          "base_uri": "https://localhost:8080/"
        },
        "id": "zocwsAT5876Y",
        "outputId": "cccc23e6-304b-40a6-a549-aeba9c58e746"
      },
      "execution_count": 5,
      "outputs": [
        {
          "output_type": "execute_result",
          "data": {
            "text/plain": [
              "((9000, 24, 100), (1000, 24, 100), (9000, 24), (1000, 24))"
            ]
          },
          "metadata": {},
          "execution_count": 5
        }
      ]
    },
    {
      "cell_type": "code",
      "source": [
        "X_train[0].shape, Y_train[0].shape"
      ],
      "metadata": {
        "colab": {
          "base_uri": "https://localhost:8080/"
        },
        "id": "-8hJGn5s9wL1",
        "outputId": "8cee128d-b316-4e60-b9fd-869001c04196"
      },
      "execution_count": 7,
      "outputs": [
        {
          "output_type": "execute_result",
          "data": {
            "text/plain": [
              "((24, 100), (24,))"
            ]
          },
          "metadata": {},
          "execution_count": 7
        }
      ]
    },
    {
      "cell_type": "markdown",
      "source": [
        "#Create and Train Model"
      ],
      "metadata": {
        "id": "tmmF0QjV-SB3"
      }
    },
    {
      "cell_type": "code",
      "source": [
        "from sklearn.linear_model import SGDRegressor\n",
        "\n",
        "regressor = SGDRegressor()\n",
        "epochs = 10\n",
        "for k in range(epochs): ## Number of loops through data\n",
        "    for i in range(X_train.shape[0]): ## Looping through batches\n",
        "        X_batch, Y_batch = X_train[i], Y_train[i]\n",
        "        regressor.partial_fit(X_batch, Y_batch) ## Partially fitting data in batches"
      ],
      "metadata": {
        "id": "YQyi7x4Q9_Nr"
      },
      "execution_count": 8,
      "outputs": []
    },
    {
      "cell_type": "markdown",
      "source": [
        "#Evaluate Model Performance on Test Data"
      ],
      "metadata": {
        "id": "t0pAwnYO-TXi"
      }
    },
    {
      "cell_type": "code",
      "source": [
        "from sklearn.metrics import mean_squared_error, r2_score\n",
        "\n",
        "Y_test_preds = []\n",
        "for j in range(X_test.shape[0]): ## Looping through test batches for making predictions\n",
        "    Y_preds = regressor.predict(X_test[j])\n",
        "    Y_test_preds.extend(Y_preds.tolist())\n",
        "\n",
        "print(\"Test MSE      : {}\".format(mean_squared_error(Y_test.reshape(-1), Y_test_preds)))\n",
        "print(\"Test R2 Score : {}\".format(r2_score(Y_test.reshape(-1), Y_test_preds)))"
      ],
      "metadata": {
        "colab": {
          "base_uri": "https://localhost:8080/"
        },
        "id": "vTJ37qC5-Wwt",
        "outputId": "0f65bfcd-bee2-4a5b-ec32-019185f310a0"
      },
      "execution_count": 9,
      "outputs": [
        {
          "output_type": "stream",
          "name": "stdout",
          "text": [
            "Test MSE      : 0.00024876416610145524\n",
            "Test R2 Score : 0.9999999907248697\n"
          ]
        }
      ]
    },
    {
      "cell_type": "markdown",
      "source": [
        "#Evaluate Model Performance on Train Data"
      ],
      "metadata": {
        "id": "RKMvsaxH-lMZ"
      }
    },
    {
      "cell_type": "code",
      "source": [
        "from sklearn.metrics import mean_squared_error, r2_score\n",
        "\n",
        "Y_train_preds = []\n",
        "for j in range(X_train.shape[0]): ## Looping through train batches for making predictions\n",
        "    Y_preds = regressor.predict(X_train[j])\n",
        "    Y_train_preds.extend(Y_preds.tolist())\n",
        "\n",
        "print(\"Train MSE      : {}\".format(mean_squared_error(Y_train.reshape(-1), Y_train_preds)))\n",
        "print(\"Train R2 Score : {}\".format(r2_score(Y_train.reshape(-1), Y_train_preds)))"
      ],
      "metadata": {
        "colab": {
          "base_uri": "https://localhost:8080/"
        },
        "id": "K4esAlUC-hI1",
        "outputId": "ee074f1d-2b0f-4b23-fd4f-7f113444498d"
      },
      "execution_count": 10,
      "outputs": [
        {
          "output_type": "stream",
          "name": "stdout",
          "text": [
            "Train MSE      : 0.00024853890489015816\n",
            "Train R2 Score : 0.9999999907225741\n"
          ]
        }
      ]
    },
    {
      "cell_type": "markdown",
      "source": [
        "#Preprocessing "
      ],
      "metadata": {
        "id": "cjqEnAzO_Rjo"
      }
    },
    {
      "cell_type": "code",
      "source": [
        "from sklearn import datasets\n",
        "from sklearn.model_selection import train_test_split\n",
        "\n",
        "X, Y = datasets.make_regression(n_samples=240000, random_state=123)\n",
        "X_train, X_test, Y_train, Y_test = train_test_split(X, Y, train_size=0.9, random_state=123)\n",
        "X_train.shape, X_test.shape, Y_train.shape, Y_test.shape"
      ],
      "metadata": {
        "colab": {
          "base_uri": "https://localhost:8080/"
        },
        "id": "osh5Krqn-qcC",
        "outputId": "cc1c8042-7085-4299-e45b-e4322734be79"
      },
      "execution_count": 11,
      "outputs": [
        {
          "output_type": "execute_result",
          "data": {
            "text/plain": [
              "((216000, 100), (24000, 100), (216000,), (24000,))"
            ]
          },
          "metadata": {},
          "execution_count": 11
        }
      ]
    },
    {
      "cell_type": "code",
      "source": [
        "X_train, X_test = X_train.reshape(-1,24,100), X_test.reshape(-1,24,100)\n",
        "Y_train, Y_test = Y_train.reshape(-1,24), Y_test.reshape(-1,24)\n",
        "X_train.shape, X_test.shape, Y_train.shape, Y_test.shape"
      ],
      "metadata": {
        "colab": {
          "base_uri": "https://localhost:8080/"
        },
        "id": "QZkNDWdL_ZQx",
        "outputId": "0ec25223-cb9d-4866-d636-a253d89098f5"
      },
      "execution_count": 12,
      "outputs": [
        {
          "output_type": "execute_result",
          "data": {
            "text/plain": [
              "((9000, 24, 100), (1000, 24, 100), (9000, 24), (1000, 24))"
            ]
          },
          "metadata": {},
          "execution_count": 12
        }
      ]
    },
    {
      "cell_type": "markdown",
      "source": [
        "#Create and Train Model After Scaling Data"
      ],
      "metadata": {
        "id": "uCeHdj32AANv"
      }
    },
    {
      "cell_type": "code",
      "source": [
        "from sklearn.linear_model import SGDRegressor\n",
        "from sklearn.preprocessing import StandardScaler\n",
        "\n",
        "### Scaling Data\n",
        "scaler = StandardScaler()\n",
        "\n",
        "for i in range(X_train.shape[0]):\n",
        "    X_batch, Y_batch = X_train[i], Y_train[i]\n",
        "    scaler.partial_fit(X_batch, Y_batch) ## Partially fitting data in batches\n",
        "\n",
        "### Fitting Data in batches\n",
        "regressor = SGDRegressor()\n",
        "epochs = 10\n",
        "for k in range(epochs):\n",
        "    for i in range(X_train.shape[0]):\n",
        "        X_batch, Y_batch = X_train[i], Y_train[i]\n",
        "        X_batch = scaler.transform(X_batch) ## Preprocessing Single batch of data\n",
        "        regressor.partial_fit(X_batch, Y_batch) ## Partially fitting data in batches"
      ],
      "metadata": {
        "id": "HVP9-Jbf_xaq"
      },
      "execution_count": 13,
      "outputs": []
    },
    {
      "cell_type": "markdown",
      "source": [
        "#Evaluate Model Performance on Test Data"
      ],
      "metadata": {
        "id": "eajTOf_OBNJw"
      }
    },
    {
      "cell_type": "code",
      "source": [
        "from sklearn.metrics import mean_squared_error, r2_score\n",
        "\n",
        "Y_test_preds = []\n",
        "for j in range(X_test.shape[0]): ## Looping through test batches for making predictions\n",
        "    X_batch = scaler.transform(X_test[j]) ## Preprocessing Single batch of data\n",
        "    Y_preds = regressor.predict(X_batch)\n",
        "    Y_test_preds.extend(Y_preds.tolist())\n",
        "\n",
        "print(\"Test MSE      : {}\".format(mean_squared_error(Y_test.reshape(-1), Y_test_preds)))\n",
        "print(\"Test R2 Score : {}\".format(r2_score(Y_test.reshape(-1), Y_test_preds)))"
      ],
      "metadata": {
        "colab": {
          "base_uri": "https://localhost:8080/"
        },
        "id": "RIUXopEWBJAS",
        "outputId": "3163e60b-cf54-45e5-9053-7de550f0393f"
      },
      "execution_count": 14,
      "outputs": [
        {
          "output_type": "stream",
          "name": "stdout",
          "text": [
            "Test MSE      : 0.00024862831600677395\n",
            "Test R2 Score : 0.9999999907299348\n"
          ]
        }
      ]
    }
  ]
}